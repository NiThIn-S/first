{
 "cells": [
  {
   "cell_type": "markdown",
   "metadata": {},
   "source": [
    "# LSTM on Amazon Fine Food Reviews Data"
   ]
  },
  {
   "cell_type": "markdown",
   "metadata": {},
   "source": [
    "### Amazon's Fine Food reviews dataset :  https://www.kaggle.com/snap/amazon-fine-food-reviews\n",
    "\n",
    "The Amazon Fine Food Reviews dataset consists of reviews of fine foods from Amazon.\n",
    "   - Number of reviews: 568,454\n",
    "   - Number of users: 256,059\n",
    "   - Number of products: 74,258\n",
    "   - Timespan: Oct 1999 - Oct 2012\n",
    "   - Number of Attributes/Columns in data: 10(including class attribute)\n",
    "\n",
    "Attribute Information:\n",
    "\n",
    "   - Id\n",
    "   - ProductId - unique identifier for the product\n",
    "   - UserId - unqiue identifier for the user\n",
    "   - ProfileName\n",
    "   - HelpfulnessNumerator - number of users who found the review helpful\n",
    "   - HelpfulnessDenominator - Total number of users who indicated whether they found the review helpful or not\n",
    "   - Time - timestamp for the review\n",
    "   - Summary - brief summary of the review\n",
    "   - Text - text of the review\n",
    "   - Score(Class Label) - rating between 1 and 5 (rating 1 & 2 is negative, rating 4 & 5 is positive and rating 3 is neutral)"
   ]
  },
  {
   "cell_type": "markdown",
   "metadata": {},
   "source": [
    "### Columns/Attribute created by Cleaning\n",
    "- Cleaned Data: (Refer: \"Preprocessing-Amazon fine food review.ipynb\")\n",
    "    - c_text - Cleaned Column with stemming of \"Text\" Attribute from original dataset.\n",
    "    - c_summary - Cleaned Column with stemming of \"Summary\" Attribute from original dataset.\n",
    "    - nostem_text - Cleaned Column without stemming of \"Text\" Attribute from original dataset.\n",
    "    - nostem_summary - Cleaned Column without stemming of \"Summary\" Attribute from original dataset."
   ]
  },
  {
   "cell_type": "markdown",
   "metadata": {},
   "source": [
    "# 1 Importing Required Libraries"
   ]
  },
  {
   "cell_type": "code",
   "execution_count": 1,
   "metadata": {},
   "outputs": [],
   "source": [
    "import warnings\n",
    "from tqdm import tqdm_notebook as tqdm\n",
    "import re, os, sqlite3,pickle\n",
    "import pandas as pd \n",
    "\n",
    "from collections import Counter \n",
    "\n",
    "import matplotlib.pyplot as plt\n",
    "import numpy as np\n",
    "import seaborn as sns\n",
    "\n",
    "warnings.simplefilter('ignore')\n",
    "\n",
    "from sklearn.feature_extraction.text import CountVectorizer\n",
    "from scipy.sparse import csr_matrix,csc_matrix\n",
    "from sklearn.model_selection import train_test_split"
   ]
  },
  {
   "cell_type": "markdown",
   "metadata": {},
   "source": [
    "# 2 Creating IMDB type data"
   ]
  },
  {
   "cell_type": "markdown",
   "metadata": {},
   "source": [
    "## Importing Cleaned data"
   ]
  },
  {
   "cell_type": "code",
   "execution_count": 2,
   "metadata": {},
   "outputs": [
    {
     "data": {
      "text/html": [
       "<div>\n",
       "<style scoped>\n",
       "    .dataframe tbody tr th:only-of-type {\n",
       "        vertical-align: middle;\n",
       "    }\n",
       "\n",
       "    .dataframe tbody tr th {\n",
       "        vertical-align: top;\n",
       "    }\n",
       "\n",
       "    .dataframe thead th {\n",
       "        text-align: right;\n",
       "    }\n",
       "</style>\n",
       "<table border=\"1\" class=\"dataframe\">\n",
       "  <thead>\n",
       "    <tr style=\"text-align: right;\">\n",
       "      <th></th>\n",
       "      <th>Id</th>\n",
       "      <th>ProductId</th>\n",
       "      <th>UserId</th>\n",
       "      <th>ProfileName</th>\n",
       "      <th>HelpfulnessNumerator</th>\n",
       "      <th>HelpfulnessDenominator</th>\n",
       "      <th>Score</th>\n",
       "      <th>Time</th>\n",
       "      <th>Summary</th>\n",
       "      <th>Text</th>\n",
       "      <th>c_text</th>\n",
       "      <th>c_summary</th>\n",
       "      <th>nostem_text</th>\n",
       "      <th>nostem_summary</th>\n",
       "    </tr>\n",
       "  </thead>\n",
       "  <tbody>\n",
       "    <tr>\n",
       "      <th>0</th>\n",
       "      <td>150524</td>\n",
       "      <td>0006641040</td>\n",
       "      <td>ACITT7DI6IDDL</td>\n",
       "      <td>shari zychinski</td>\n",
       "      <td>0</td>\n",
       "      <td>0</td>\n",
       "      <td>1</td>\n",
       "      <td>939340800</td>\n",
       "      <td>EVERY book is educational</td>\n",
       "      <td>this witty little book makes my son laugh at l...</td>\n",
       "      <td>witti littl book make son laugh loud recit car...</td>\n",
       "      <td>everi book educ</td>\n",
       "      <td>witty little book makes son laugh loud recite ...</td>\n",
       "      <td>every book educational</td>\n",
       "    </tr>\n",
       "    <tr>\n",
       "      <th>1</th>\n",
       "      <td>150506</td>\n",
       "      <td>0006641040</td>\n",
       "      <td>A2IW4PEEKO2R0U</td>\n",
       "      <td>Tracy</td>\n",
       "      <td>1</td>\n",
       "      <td>1</td>\n",
       "      <td>1</td>\n",
       "      <td>1194739200</td>\n",
       "      <td>Love the book, miss the hard cover version</td>\n",
       "      <td>I grew up reading these Sendak books, and watc...</td>\n",
       "      <td>grew read sendak book watch realli rosi movi i...</td>\n",
       "      <td>love book miss hard cover version</td>\n",
       "      <td>grew reading sendak books watching really rosi...</td>\n",
       "      <td>love book miss hard cover version</td>\n",
       "    </tr>\n",
       "    <tr>\n",
       "      <th>2</th>\n",
       "      <td>150507</td>\n",
       "      <td>0006641040</td>\n",
       "      <td>A1S4A3IQ2MU7V4</td>\n",
       "      <td>sally sue \"sally sue\"</td>\n",
       "      <td>1</td>\n",
       "      <td>1</td>\n",
       "      <td>1</td>\n",
       "      <td>1191456000</td>\n",
       "      <td>chicken soup with rice months</td>\n",
       "      <td>This is a fun way for children to learn their ...</td>\n",
       "      <td>fun way children learn month year learn poem t...</td>\n",
       "      <td>chicken soup rice month</td>\n",
       "      <td>fun way children learn months year learn poems...</td>\n",
       "      <td>chicken soup rice months</td>\n",
       "    </tr>\n",
       "    <tr>\n",
       "      <th>3</th>\n",
       "      <td>150508</td>\n",
       "      <td>0006641040</td>\n",
       "      <td>AZGXZ2UUK6X</td>\n",
       "      <td>Catherine Hallberg \"(Kate)\"</td>\n",
       "      <td>1</td>\n",
       "      <td>1</td>\n",
       "      <td>1</td>\n",
       "      <td>1076025600</td>\n",
       "      <td>a good swingy rhythm for reading aloud</td>\n",
       "      <td>This is a great little book to read aloud- it ...</td>\n",
       "      <td>great littl book read nice rhythm well good re...</td>\n",
       "      <td>good swingi rhythm read aloud</td>\n",
       "      <td>great little book read nice rhythm well good r...</td>\n",
       "      <td>good swingy rhythm reading aloud</td>\n",
       "    </tr>\n",
       "    <tr>\n",
       "      <th>4</th>\n",
       "      <td>150509</td>\n",
       "      <td>0006641040</td>\n",
       "      <td>A3CMRKGE0P909G</td>\n",
       "      <td>Teresa</td>\n",
       "      <td>3</td>\n",
       "      <td>4</td>\n",
       "      <td>1</td>\n",
       "      <td>1018396800</td>\n",
       "      <td>A great way to learn the months</td>\n",
       "      <td>This is a book of poetry about the months of t...</td>\n",
       "      <td>book poetri month year goe month cute littl po...</td>\n",
       "      <td>great way learn month</td>\n",
       "      <td>book poetry months year goes month cute little...</td>\n",
       "      <td>great way learn months</td>\n",
       "    </tr>\n",
       "  </tbody>\n",
       "</table>\n",
       "</div>"
      ],
      "text/plain": [
       "       Id   ProductId          UserId                  ProfileName  \\\n",
       "0  150524  0006641040   ACITT7DI6IDDL              shari zychinski   \n",
       "1  150506  0006641040  A2IW4PEEKO2R0U                        Tracy   \n",
       "2  150507  0006641040  A1S4A3IQ2MU7V4        sally sue \"sally sue\"   \n",
       "3  150508  0006641040     AZGXZ2UUK6X  Catherine Hallberg \"(Kate)\"   \n",
       "4  150509  0006641040  A3CMRKGE0P909G                       Teresa   \n",
       "\n",
       "   HelpfulnessNumerator  HelpfulnessDenominator  Score        Time  \\\n",
       "0                     0                       0      1   939340800   \n",
       "1                     1                       1      1  1194739200   \n",
       "2                     1                       1      1  1191456000   \n",
       "3                     1                       1      1  1076025600   \n",
       "4                     3                       4      1  1018396800   \n",
       "\n",
       "                                      Summary  \\\n",
       "0                   EVERY book is educational   \n",
       "1  Love the book, miss the hard cover version   \n",
       "2               chicken soup with rice months   \n",
       "3      a good swingy rhythm for reading aloud   \n",
       "4             A great way to learn the months   \n",
       "\n",
       "                                                Text  \\\n",
       "0  this witty little book makes my son laugh at l...   \n",
       "1  I grew up reading these Sendak books, and watc...   \n",
       "2  This is a fun way for children to learn their ...   \n",
       "3  This is a great little book to read aloud- it ...   \n",
       "4  This is a book of poetry about the months of t...   \n",
       "\n",
       "                                              c_text  \\\n",
       "0  witti littl book make son laugh loud recit car...   \n",
       "1  grew read sendak book watch realli rosi movi i...   \n",
       "2  fun way children learn month year learn poem t...   \n",
       "3  great littl book read nice rhythm well good re...   \n",
       "4  book poetri month year goe month cute littl po...   \n",
       "\n",
       "                           c_summary  \\\n",
       "0                    everi book educ   \n",
       "1  love book miss hard cover version   \n",
       "2            chicken soup rice month   \n",
       "3      good swingi rhythm read aloud   \n",
       "4              great way learn month   \n",
       "\n",
       "                                         nostem_text  \\\n",
       "0  witty little book makes son laugh loud recite ...   \n",
       "1  grew reading sendak books watching really rosi...   \n",
       "2  fun way children learn months year learn poems...   \n",
       "3  great little book read nice rhythm well good r...   \n",
       "4  book poetry months year goes month cute little...   \n",
       "\n",
       "                      nostem_summary  \n",
       "0             every book educational  \n",
       "1  love book miss hard cover version  \n",
       "2           chicken soup rice months  \n",
       "3   good swingy rhythm reading aloud  \n",
       "4             great way learn months  "
      ]
     },
     "execution_count": 2,
     "metadata": {},
     "output_type": "execute_result"
    }
   ],
   "source": [
    "link = sqlite3.connect('../data_clean/cleaned_reviews.sqlite')\n",
    "cleaned_data= pd.read_sql_query(''' SELECT * FROM creviews ''',link)\n",
    "link.close()\n",
    "\n",
    "\n",
    "cleaned_data.head()"
   ]
  },
  {
   "cell_type": "markdown",
   "metadata": {},
   "source": [
    "## Sorting Cleaned data"
   ]
  },
  {
   "cell_type": "code",
   "execution_count": 3,
   "metadata": {},
   "outputs": [
    {
     "data": {
      "text/html": [
       "<div>\n",
       "<style scoped>\n",
       "    .dataframe tbody tr th:only-of-type {\n",
       "        vertical-align: middle;\n",
       "    }\n",
       "\n",
       "    .dataframe tbody tr th {\n",
       "        vertical-align: top;\n",
       "    }\n",
       "\n",
       "    .dataframe thead th {\n",
       "        text-align: right;\n",
       "    }\n",
       "</style>\n",
       "<table border=\"1\" class=\"dataframe\">\n",
       "  <thead>\n",
       "    <tr style=\"text-align: right;\">\n",
       "      <th></th>\n",
       "      <th>Id</th>\n",
       "      <th>Score</th>\n",
       "      <th>Time</th>\n",
       "      <th>c_text</th>\n",
       "    </tr>\n",
       "  </thead>\n",
       "  <tbody>\n",
       "    <tr>\n",
       "      <th>0</th>\n",
       "      <td>150524</td>\n",
       "      <td>1</td>\n",
       "      <td>939340800</td>\n",
       "      <td>witti littl book make son laugh loud recit car...</td>\n",
       "    </tr>\n",
       "    <tr>\n",
       "      <th>1</th>\n",
       "      <td>150506</td>\n",
       "      <td>1</td>\n",
       "      <td>1194739200</td>\n",
       "      <td>grew read sendak book watch realli rosi movi i...</td>\n",
       "    </tr>\n",
       "    <tr>\n",
       "      <th>2</th>\n",
       "      <td>150507</td>\n",
       "      <td>1</td>\n",
       "      <td>1191456000</td>\n",
       "      <td>fun way children learn month year learn poem t...</td>\n",
       "    </tr>\n",
       "    <tr>\n",
       "      <th>3</th>\n",
       "      <td>150508</td>\n",
       "      <td>1</td>\n",
       "      <td>1076025600</td>\n",
       "      <td>great littl book read nice rhythm well good re...</td>\n",
       "    </tr>\n",
       "    <tr>\n",
       "      <th>4</th>\n",
       "      <td>150509</td>\n",
       "      <td>1</td>\n",
       "      <td>1018396800</td>\n",
       "      <td>book poetri month year goe month cute littl po...</td>\n",
       "    </tr>\n",
       "  </tbody>\n",
       "</table>\n",
       "</div>"
      ],
      "text/plain": [
       "       Id  Score        Time  \\\n",
       "0  150524      1   939340800   \n",
       "1  150506      1  1194739200   \n",
       "2  150507      1  1191456000   \n",
       "3  150508      1  1076025600   \n",
       "4  150509      1  1018396800   \n",
       "\n",
       "                                              c_text  \n",
       "0  witti littl book make son laugh loud recit car...  \n",
       "1  grew read sendak book watch realli rosi movi i...  \n",
       "2  fun way children learn month year learn poem t...  \n",
       "3  great littl book read nice rhythm well good re...  \n",
       "4  book poetri month year goe month cute littl po...  "
      ]
     },
     "execution_count": 3,
     "metadata": {},
     "output_type": "execute_result"
    }
   ],
   "source": [
    "cleaned_data=cleaned_data[['Id','Score','Time','c_text']]\n",
    "cleaned_data.head()"
   ]
  },
  {
   "cell_type": "code",
   "execution_count": 4,
   "metadata": {},
   "outputs": [
    {
     "data": {
      "text/html": [
       "<div>\n",
       "<style scoped>\n",
       "    .dataframe tbody tr th:only-of-type {\n",
       "        vertical-align: middle;\n",
       "    }\n",
       "\n",
       "    .dataframe tbody tr th {\n",
       "        vertical-align: top;\n",
       "    }\n",
       "\n",
       "    .dataframe thead th {\n",
       "        text-align: right;\n",
       "    }\n",
       "</style>\n",
       "<table border=\"1\" class=\"dataframe\">\n",
       "  <thead>\n",
       "    <tr style=\"text-align: right;\">\n",
       "      <th></th>\n",
       "      <th>Id</th>\n",
       "      <th>Score</th>\n",
       "      <th>Time</th>\n",
       "      <th>c_text</th>\n",
       "    </tr>\n",
       "  </thead>\n",
       "  <tbody>\n",
       "    <tr>\n",
       "      <th>0</th>\n",
       "      <td>150524</td>\n",
       "      <td>1</td>\n",
       "      <td>939340800</td>\n",
       "      <td>witti littl book make son laugh loud recit car...</td>\n",
       "    </tr>\n",
       "    <tr>\n",
       "      <th>30</th>\n",
       "      <td>150501</td>\n",
       "      <td>1</td>\n",
       "      <td>940809600</td>\n",
       "      <td>rememb see show air televis year ago child sis...</td>\n",
       "    </tr>\n",
       "    <tr>\n",
       "      <th>215</th>\n",
       "      <td>76882</td>\n",
       "      <td>1</td>\n",
       "      <td>948672000</td>\n",
       "      <td>bought apart infest fruit fli hour trap mani f...</td>\n",
       "    </tr>\n",
       "    <tr>\n",
       "      <th>241</th>\n",
       "      <td>1245</td>\n",
       "      <td>1</td>\n",
       "      <td>961718400</td>\n",
       "      <td>realli good idea final product outstand use de...</td>\n",
       "    </tr>\n",
       "    <tr>\n",
       "      <th>242</th>\n",
       "      <td>1244</td>\n",
       "      <td>1</td>\n",
       "      <td>962236800</td>\n",
       "      <td>receiv shipment could hard wait tri product lo...</td>\n",
       "    </tr>\n",
       "  </tbody>\n",
       "</table>\n",
       "</div>"
      ],
      "text/plain": [
       "         Id  Score       Time  \\\n",
       "0    150524      1  939340800   \n",
       "30   150501      1  940809600   \n",
       "215   76882      1  948672000   \n",
       "241    1245      1  961718400   \n",
       "242    1244      1  962236800   \n",
       "\n",
       "                                                c_text  \n",
       "0    witti littl book make son laugh loud recit car...  \n",
       "30   rememb see show air televis year ago child sis...  \n",
       "215  bought apart infest fruit fli hour trap mani f...  \n",
       "241  realli good idea final product outstand use de...  \n",
       "242  receiv shipment could hard wait tri product lo...  "
      ]
     },
     "execution_count": 4,
     "metadata": {},
     "output_type": "execute_result"
    }
   ],
   "source": [
    "# Sorting data by Time to employ Time Series Split\n",
    "cleaned_data = cleaned_data.sort_values('Time',\n",
    "                                        axis=0, \n",
    "                                        ascending=True, \n",
    "                                        inplace=False,\n",
    "                                        kind='quicksort', \n",
    "                                        na_position='last')\n",
    "\n",
    "text = cleaned_data['c_text'].values\n",
    "y_true=cleaned_data['Score']\n",
    "cleaned_data.head()"
   ]
  },
  {
   "cell_type": "markdown",
   "metadata": {},
   "source": [
    "## Train-Test split"
   ]
  },
  {
   "cell_type": "code",
   "execution_count": 5,
   "metadata": {},
   "outputs": [],
   "source": [
    "# Splitting the data into 70:30 train_data and test_data\n",
    "train_text, test_text, y_train, y_test = train_test_split(text, y_true, \n",
    "                                                    test_size=0.3, \n",
    "                                                    shuffle=False)\n"
   ]
  },
  {
   "cell_type": "code",
   "execution_count": 6,
   "metadata": {},
   "outputs": [
    {
     "data": {
      "text/plain": [
       "(array(['witti littl book make son laugh loud recit car drive along alway sing refrain hes learn whale india droop love new word book introduc silli classic book will bet son still abl recit memori colleg',\n",
       "        'rememb see show air televis year ago child sister later bought day thirti someth use seri book song student teach preschool turn whole school purchas along book children tradit live',\n",
       "        'bought apart infest fruit fli hour trap mani fli within day practic gone may not long term solut fli drive crazi consid buy one surfac sticki tri avoid touch',\n",
       "        ...,\n",
       "        'buy cider mill fall kept eat hope healthier potato chip cider mill close good kettl corn hard find look amazon well bought case warehous deal husband take one bag mom assist live home gone alreadi corn tast great habit form husband alway pick shop corn hasnt complain keep go garag get anoth bag eat get home work definit buy box empti',\n",
       "        'pick tin republ tea peppermint chocol today local store not know expect ive market new favorit tea late tri countless varieti without much luck everyth tast bland strong kind general say pleasant surpris balanc tast peppermint chocol tea mint flavor definit present quit mild comparison mani tea think celesti season peppermint tea surpris also tast chocol blend well problem ive thing ive tri recent like guayaki mate chocolatt that one thing realli enjoy particular brand one flavor buri dont expect take sip tea remind hot chocol though nowher near rich chocol flavor glad make nice cup tea meal remind enough favorit mint chocol chip dessert make impact better yet fat calori not sweet enough brew tast pretti good littl bit stevia ad opinion itd probabl good littl bit cream ad well although dont think particular blend need best mani republ tea blend rooibo base fantast caffein free tea chock full antioxid good bodi help ward ill your bother price possibl find tea store littl cheaper although avail locat may vari found mine world market store first thought still bit steep upon tast tea realiz unlik zhena gypsi tea tin suffici air tight allow reus tin loos leaf tea purchas futur find price quit reason definit recommend tea anyon enjoy chocol mint long time tea enthusiast like look someth new',\n",
       "        'excel product good area treatment nutrit delici plain rice cracker wonder salad dress'],\n",
       "       dtype=object),\n",
       " array(['dog love love dog food say love twice dog food one dog favorit',\n",
       "        'agre comment tast great salad crouton replac also make powder coffe grinder add favorit cooki kid',\n",
       "        'heaven espresso one pump dark chocol syrup morn sweeter without sugar artifici sweeten hesit buy previous experi differ brand shouldnt worri amoretti wonder dark chocol flavor touch sweet though not heavili note amoretti custom servic also splendid wasnt sure meant said artifici sweeten concern might sweeten call natur realli arent call let know good news sweeten kind appar amoretti extract process allow sweet add none calori carb per serv worth cost may seem bit high compar syrup not highest qualiti pump includ let repeat worth',\n",
       "        ...,\n",
       "        'surpris see mani negat comment product dont notic kind aftertast nor notic cool effect far ive tast coffe experi posit look not realli much money tri want avoid sugar dont want someth like slenda stevia yuck not give nectress tri',\n",
       "        'pepperminti almost spearminti tea need littl good refresh kick bag huge price cant beat howev leav crash not full tea leav advertis also white flake stem may flower star',\n",
       "        'love gravi mix quick meal worth price realli good mash potato although like make gravi best replac find homemad'],\n",
       "       dtype=object))"
      ]
     },
     "execution_count": 6,
     "metadata": {},
     "output_type": "execute_result"
    }
   ],
   "source": [
    "train_text, test_text"
   ]
  },
  {
   "cell_type": "markdown",
   "metadata": {},
   "source": [
    "## Counting word frequency"
   ]
  },
  {
   "cell_type": "code",
   "execution_count": 7,
   "metadata": {},
   "outputs": [
    {
     "name": "stdout",
     "output_type": "stream",
     "text": [
      "Shape of Train vector (254786, 59059)\n",
      "Shape of Test vector (109194, 59059)\n",
      "Total number of unique words in the Train data - 59059\n"
     ]
    }
   ],
   "source": [
    "#  vocabulary of words using countvectorizer\n",
    "count = CountVectorizer() \n",
    "\n",
    "train_vector=count.fit_transform(train_text)\n",
    "test_vector=count.transform(test_text)\n",
    "feature_names = count.get_feature_names()\n",
    "\n",
    "\n",
    "print('Shape of Train vector',train_vector.shape)\n",
    "print('Shape of Test vector',test_vector.shape)\n",
    "print('Total number of unique words in the Train data -',\n",
    "      len(feature_names))"
   ]
  },
  {
   "cell_type": "markdown",
   "metadata": {},
   "source": [
    "## Converting csr to csc sparse format and calculating frequency of each word in entire corpus"
   ]
  },
  {
   "cell_type": "code",
   "execution_count": 9,
   "metadata": {},
   "outputs": [
    {
     "data": {
      "application/vnd.jupyter.widget-view+json": {
       "model_id": "fab88bf18ba04f36ad114ea89fd20f85",
       "version_major": 2,
       "version_minor": 0
      },
      "text/plain": [
       "HBox(children=(IntProgress(value=0, max=59059), HTML(value='')))"
      ]
     },
     "metadata": {},
     "output_type": "display_data"
    },
    {
     "name": "stdout",
     "output_type": "stream",
     "text": [
      "\n"
     ]
    }
   ],
   "source": [
    "col_vector=csc_matrix(train_vector)\n",
    "\n",
    "idx=0\n",
    "freq_dict=dict()\n",
    "\n",
    "for idx in tqdm(range(len(feature_names))):\n",
    "    wrd=feature_names[idx]\n",
    "    val=col_vector[:,idx].todense().sum()\n",
    "    freq_dict[wrd]=val"
   ]
  },
  {
   "cell_type": "markdown",
   "metadata": {},
   "source": [
    "## Converting dict to dataframe and sorting frequency in descending order"
   ]
  },
  {
   "cell_type": "code",
   "execution_count": 10,
   "metadata": {
    "scrolled": true
   },
   "outputs": [
    {
     "name": "stdout",
     "output_type": "stream",
     "text": [
      "          freq\n",
      "not     137870\n",
      "like    117929\n",
      "tast    113255\n",
      "flavor   90151\n",
      "good     88663\n"
     ]
    }
   ],
   "source": [
    "df_freq=pd.DataFrame.from_dict(freq_dict,\n",
    "                               orient='index',\n",
    "                               dtype=None,\n",
    "                               columns=['freq'])\n",
    "\n",
    "sorted_data = df_freq.sort_values('freq',\n",
    "                                axis=0, \n",
    "                                ascending=False, \n",
    "                                inplace=False,\n",
    "                                kind='quicksort', \n",
    "                                na_position='last')\n",
    "print(sorted_data.head())"
   ]
  },
  {
   "cell_type": "markdown",
   "metadata": {},
   "source": [
    "## Creating ranked order by resetting dataframe index"
   ]
  },
  {
   "cell_type": "code",
   "execution_count": 11,
   "metadata": {
    "scrolled": true
   },
   "outputs": [
    {
     "data": {
      "text/html": [
       "<div>\n",
       "<style scoped>\n",
       "    .dataframe tbody tr th:only-of-type {\n",
       "        vertical-align: middle;\n",
       "    }\n",
       "\n",
       "    .dataframe tbody tr th {\n",
       "        vertical-align: top;\n",
       "    }\n",
       "\n",
       "    .dataframe thead th {\n",
       "        text-align: right;\n",
       "    }\n",
       "</style>\n",
       "<table border=\"1\" class=\"dataframe\">\n",
       "  <thead>\n",
       "    <tr style=\"text-align: right;\">\n",
       "      <th></th>\n",
       "      <th>index</th>\n",
       "      <th>freq</th>\n",
       "    </tr>\n",
       "  </thead>\n",
       "  <tbody>\n",
       "    <tr>\n",
       "      <th>0</th>\n",
       "      <td>not</td>\n",
       "      <td>137870</td>\n",
       "    </tr>\n",
       "    <tr>\n",
       "      <th>1</th>\n",
       "      <td>like</td>\n",
       "      <td>117929</td>\n",
       "    </tr>\n",
       "    <tr>\n",
       "      <th>2</th>\n",
       "      <td>tast</td>\n",
       "      <td>113255</td>\n",
       "    </tr>\n",
       "    <tr>\n",
       "      <th>3</th>\n",
       "      <td>flavor</td>\n",
       "      <td>90151</td>\n",
       "    </tr>\n",
       "    <tr>\n",
       "      <th>4</th>\n",
       "      <td>good</td>\n",
       "      <td>88663</td>\n",
       "    </tr>\n",
       "  </tbody>\n",
       "</table>\n",
       "</div>"
      ],
      "text/plain": [
       "    index    freq\n",
       "0     not  137870\n",
       "1    like  117929\n",
       "2    tast  113255\n",
       "3  flavor   90151\n",
       "4    good   88663"
      ]
     },
     "execution_count": 11,
     "metadata": {},
     "output_type": "execute_result"
    }
   ],
   "source": [
    "sorted_data=sorted_data.reset_index()\n",
    "sorted_data.head()"
   ]
  },
  {
   "cell_type": "markdown",
   "metadata": {},
   "source": [
    "## Creating dict of words with their ranks"
   ]
  },
  {
   "cell_type": "code",
   "execution_count": 12,
   "metadata": {},
   "outputs": [
    {
     "data": {
      "application/vnd.jupyter.widget-view+json": {
       "model_id": "efe25b43d27a4fc9979ce4182eac0972",
       "version_major": 2,
       "version_minor": 0
      },
      "text/plain": [
       "HBox(children=(IntProgress(value=0, max=59059), HTML(value='')))"
      ]
     },
     "metadata": {},
     "output_type": "display_data"
    },
    {
     "name": "stdout",
     "output_type": "stream",
     "text": [
      "\n"
     ]
    }
   ],
   "source": [
    "wrd_rank=dict()\n",
    "rank=1\n",
    "for i in tqdm(range(len(sorted_data))):\n",
    "    wrd=sorted_data.iloc[i]['index']\n",
    "    wrd_rank[wrd]=rank\n",
    "    rank+=1"
   ]
  },
  {
   "cell_type": "code",
   "execution_count": 13,
   "metadata": {},
   "outputs": [],
   "source": [
    "# Saving the word rank dictionary\n",
    "with open( './model/wrd_rank.pkl','wb') as fi:\n",
    "    pickle.dump(wrd_rank,fi)"
   ]
  },
  {
   "cell_type": "markdown",
   "metadata": {},
   "source": [
    "## Creating Ranked format of Amazon Reviews data"
   ]
  },
  {
   "cell_type": "markdown",
   "metadata": {},
   "source": [
    "### For Train data"
   ]
  },
  {
   "cell_type": "code",
   "execution_count": 14,
   "metadata": {},
   "outputs": [
    {
     "data": {
      "application/vnd.jupyter.widget-view+json": {
       "model_id": "3e76badbe5c44a7fbc2dcd9f74a5e22a",
       "version_major": 2,
       "version_minor": 0
      },
      "text/plain": [
       "HBox(children=(IntProgress(value=0, max=254786), HTML(value='')))"
      ]
     },
     "metadata": {},
     "output_type": "display_data"
    },
    {
     "name": "stdout",
     "output_type": "stream",
     "text": [
      "\n"
     ]
    }
   ],
   "source": [
    "train_ranked_data=[]\n",
    "train_review_len=[]\n",
    "for sent in tqdm(train_text):\n",
    "    row=[]\n",
    "    for word in sent.split():\n",
    "        try:\n",
    "            row.append(wrd_rank[word])\n",
    "        except:\n",
    "            pass\n",
    "    train_ranked_data.append(row)\n",
    "    train_review_len.append(len(row))"
   ]
  },
  {
   "cell_type": "markdown",
   "metadata": {},
   "source": [
    "### For Test data"
   ]
  },
  {
   "cell_type": "code",
   "execution_count": 15,
   "metadata": {},
   "outputs": [
    {
     "data": {
      "application/vnd.jupyter.widget-view+json": {
       "model_id": "6e9b1e7698434c758705501e86c50051",
       "version_major": 2,
       "version_minor": 0
      },
      "text/plain": [
       "HBox(children=(IntProgress(value=0, max=109194), HTML(value='')))"
      ]
     },
     "metadata": {},
     "output_type": "display_data"
    },
    {
     "name": "stdout",
     "output_type": "stream",
     "text": [
      "\n"
     ]
    }
   ],
   "source": [
    "test_ranked_data=[]\n",
    "test_review_len=[]\n",
    "for sent in tqdm(test_text):\n",
    "    row=[]\n",
    "    for word in sent.split():\n",
    "        try:\n",
    "            row.append(wrd_rank[word])\n",
    "        except:\n",
    "            pass\n",
    "    test_ranked_data.append(row)\n",
    "    test_review_len.append(len(row))"
   ]
  },
  {
   "cell_type": "markdown",
   "metadata": {},
   "source": [
    "## Saving the data"
   ]
  },
  {
   "cell_type": "code",
   "execution_count": 20,
   "metadata": {},
   "outputs": [],
   "source": [
    "review_len={'train_review_len':train_review_len,\n",
    "             'test_review_len':test_review_len}\n",
    "\n",
    "\n",
    "with open( './model/review_length_list.pkl','wb') as fi:\n",
    "    pickle.dump(review_len,fi)"
   ]
  },
  {
   "cell_type": "code",
   "execution_count": 21,
   "metadata": {},
   "outputs": [],
   "source": [
    "data={'train_ranked_data':train_ranked_data,\n",
    "      'test_ranked_data':test_ranked_data,\n",
    "      'y_train':y_train,\n",
    "      'y_test':y_test}\n",
    "\n",
    "with open( './model/amazon_imdb_form_data.pkl','wb') as fi:\n",
    "    pickle.dump(data,fi)"
   ]
  },
  {
   "cell_type": "markdown",
   "metadata": {},
   "source": [
    "## Conclusion:\n",
    "   - Amazon fine food review data has been converted to IMDB data format and stored as a pickle file."
   ]
  },
  {
   "cell_type": "code",
   "execution_count": null,
   "metadata": {},
   "outputs": [],
   "source": []
  }
 ],
 "metadata": {
  "kernelspec": {
   "display_name": "Python 3",
   "language": "python",
   "name": "python3"
  },
  "language_info": {
   "codemirror_mode": {
    "name": "ipython",
    "version": 3
   },
   "file_extension": ".py",
   "mimetype": "text/x-python",
   "name": "python",
   "nbconvert_exporter": "python",
   "pygments_lexer": "ipython3",
   "version": "3.6.5"
  }
 },
 "nbformat": 4,
 "nbformat_minor": 2
}
